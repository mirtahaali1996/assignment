{
 "cells": [
  {
   "cell_type": "code",
   "execution_count": 11,
   "metadata": {},
   "outputs": [
    {
     "name": "stdout",
     "output_type": "stream",
     "text": [
      "Twikle, Twinkle, littile star \n",
      "     How I wonder what you are!\n",
      " \t   Up above the world so high,\n",
      " \t   Like a diamond in the sky.\n",
      "Twinkle, twinkle, little star,\n",
      "      How I wonder what you are\n"
     ]
    }
   ],
   "source": [
    "# Q1\n",
    "print('Twikle, Twinkle, littile star \\n     How I wonder what you are!\\n \\t   Up above the world so high,\\n \\t   Like a diamond in the sky.\\nTwinkle, twinkle, little star,\\n      How I wonder what you are')\n",
    "   \n"
   ]
  },
  {
   "cell_type": "code",
   "execution_count": 15,
   "metadata": {},
   "outputs": [
    {
     "name": "stdout",
     "output_type": "stream",
     "text": [
      "Python version\n",
      "3.7.3 (default, Apr 24 2019, 15:29:51) [MSC v.1915 64 bit (AMD64)]\n",
      "Version info.\n",
      "sys.version_info(major=3, minor=7, micro=3, releaselevel='final', serial=0)\n"
     ]
    }
   ],
   "source": [
    "# Q2\n",
    "import sys \n",
    "print(\"Python version\")\n",
    "print (sys.version)\n",
    "print(\"Version info.\")\n",
    "print (sys.version_info)"
   ]
  },
  {
   "cell_type": "code",
   "execution_count": 17,
   "metadata": {},
   "outputs": [
    {
     "name": "stdout",
     "output_type": "stream",
     "text": [
      "Current date and time : \n",
      "2020-01-04 02:01:33\n"
     ]
    }
   ],
   "source": [
    "# Q3\n",
    "import datetime\n",
    "now = datetime.datetime.now()\n",
    "print (\"Current date and time : \")\n",
    "print (now.strftime(\"%Y-%m-%d %H:%M:%S\"))"
   ]
  },
  {
   "cell_type": "code",
   "execution_count": 1,
   "metadata": {},
   "outputs": [
    {
     "name": "stdout",
     "output_type": "stream",
     "text": [
      "enter radius 3\n",
      "28.274333882308138\n"
     ]
    }
   ],
   "source": [
    "# Q4\n",
    "import math\n",
    "rad = input('enter radius ')\n",
    "rad = int(rad)\n",
    "sq = (rad ** 2)\n",
    "A = math.pi * sq\n",
    "print(A)"
   ]
  },
  {
   "cell_type": "code",
   "execution_count": 2,
   "metadata": {},
   "outputs": [
    {
     "name": "stdout",
     "output_type": "stream",
     "text": [
      "enter ur first namejohn\n",
      "nhoj\n",
      "enter ur last namewick\n",
      "nhoj kciw\n"
     ]
    }
   ],
   "source": [
    "# Q5\n",
    "fname = input('enter ur first name')\n",
    "fname = fname[::-1]\n",
    "print(fname)\n",
    "lname = input('enter ur last name')\n",
    "lname = lname[::-1]\n",
    "print(fname + ' ' + lname)"
   ]
  },
  {
   "cell_type": "code",
   "execution_count": 5,
   "metadata": {},
   "outputs": [
    {
     "name": "stdout",
     "output_type": "stream",
     "text": [
      "enter statement 1python is\n",
      "enter statement 2a programming language\n",
      "concatinated statement is \n",
      "python is a programming language\n"
     ]
    }
   ],
   "source": [
    "# Q 6\n",
    "inp1= input('enter statement 1')\n",
    "inp2= input('enter statement 2')\n",
    "print('concatinated statement is \\n' + inp1 +' ' +  inp2)"
   ]
  }
 ],
 "metadata": {
  "kernelspec": {
   "display_name": "Python 3",
   "language": "python",
   "name": "python3"
  },
  "language_info": {
   "codemirror_mode": {
    "name": "ipython",
    "version": 3
   },
   "file_extension": ".py",
   "mimetype": "text/x-python",
   "name": "python",
   "nbconvert_exporter": "python",
   "pygments_lexer": "ipython3",
   "version": "3.7.3"
  }
 },
 "nbformat": 4,
 "nbformat_minor": 2
}
