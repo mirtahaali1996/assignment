{
 "cells": [
  {
   "cell_type": "code",
   "execution_count": 3,
   "metadata": {},
   "outputs": [
    {
     "name": "stdout",
     "output_type": "stream",
     "text": [
      "9\n",
      "odd number\n"
     ]
    }
   ],
   "source": [
    "# program to identify even or odd\n",
    "number = int(input())\n",
    "if number % 2 == 0:\n",
    "    print('even number')\n",
    "else:\n",
    "    print('odd number')\n",
    "    \n",
    "    "
   ]
  },
  {
   "cell_type": "code",
   "execution_count": 7,
   "metadata": {},
   "outputs": [
    {
     "data": {
      "text/plain": [
       "4"
      ]
     },
     "execution_count": 7,
     "metadata": {},
     "output_type": "execute_result"
    }
   ],
   "source": [
    "#program to print length of list\n",
    "marks = [10 , 20 ,30, 40]\n",
    "len(marks)"
   ]
  },
  {
   "cell_type": "code",
   "execution_count": 8,
   "metadata": {},
   "outputs": [
    {
     "data": {
      "text/plain": [
       "100"
      ]
     },
     "execution_count": 8,
     "metadata": {},
     "output_type": "execute_result"
    }
   ],
   "source": [
    "#program to sum all numbers in list\n",
    "marks  = [10,20,30,40]\n",
    "sum(marks)"
   ]
  },
  {
   "cell_type": "code",
   "execution_count": 9,
   "metadata": {},
   "outputs": [
    {
     "data": {
      "text/plain": [
       "1000"
      ]
     },
     "execution_count": 9,
     "metadata": {},
     "output_type": "execute_result"
    }
   ],
   "source": [
    "#program to finnd largest number in list\n",
    "digits = [ 100 ,200 , 300,1000]\n",
    "max(digits)"
   ]
  },
  {
   "cell_type": "code",
   "execution_count": 2,
   "metadata": {},
   "outputs": [
    {
     "name": "stdout",
     "output_type": "stream",
     "text": [
      "1\n",
      "2\n",
      "3\n"
     ]
    }
   ],
   "source": [
    "# program to print all the numbers less than 5\n",
    "marks  = [10,20,30,40 ,1 ,5,2 ,3]\n",
    "for a in marks:\n",
    "    if a < 5 :\n",
    "        print (a)"
   ]
  },
  {
   "cell_type": "code",
   "execution_count": 3,
   "metadata": {},
   "outputs": [
    {
     "name": "stdout",
     "output_type": "stream",
     "text": [
      "enter number of subjects2\n",
      "enter subject number25\n",
      "enter subject number25\n",
      "enter total number50\n",
      "50\n",
      "50\n",
      "100.0\n"
     ]
    }
   ],
   "source": [
    "# program of marksheet\n",
    "cnt = input('enter number of subjects')\n",
    "cnt = int(cnt)\n",
    "obt_marks = 0 \n",
    "for no in range(cnt):\n",
    "    a = input('enter subject number')\n",
    "    a = int(a)\n",
    "    obt_marks += a\n",
    "total_number = input('enter total number')\n",
    "total_number = int(total_number)\n",
    "perentage = (obt_marks / total_number) * 100\n",
    "print(obt_marks)\n",
    "print(total_number)\n",
    "print(perentage)"
   ]
  }
 ],
 "metadata": {
  "kernelspec": {
   "display_name": "Python 3",
   "language": "python",
   "name": "python3"
  },
  "language_info": {
   "codemirror_mode": {
    "name": "ipython",
    "version": 3
   },
   "file_extension": ".py",
   "mimetype": "text/x-python",
   "name": "python",
   "nbconvert_exporter": "python",
   "pygments_lexer": "ipython3",
   "version": "3.7.3"
  }
 },
 "nbformat": 4,
 "nbformat_minor": 2
}
