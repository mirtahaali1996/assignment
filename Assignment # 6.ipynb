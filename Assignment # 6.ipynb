{
 "cells": [
  {
   "cell_type": "code",
   "execution_count": null,
   "metadata": {},
   "outputs": [],
   "source": [
    "# Q1\n",
    "#Object-oriented programming (OOP) is a programming paradigm based on the concept of \"objects\",\n",
    "#which can contain data, in the form of fields (often known as attributes or properties), and code, \n",
    "#in the form of procedures (often known as methods). A feature of objects is an object's procedures\n",
    "#that can access and often modify the data fields of the object with which they are associated \n",
    "#(objects have a notion of \"this\" or \"self\"). In OOP, computer programs are designed by making \n",
    "#them out of objects that interact with one another. OOP languages are diverse, but the \n",
    "#most popular ones are class-based, meaning that objects are instances of classes, which also \n",
    "#determine their types."
   ]
  },
  {
   "cell_type": "code",
   "execution_count": null,
   "metadata": {},
   "outputs": [],
   "source": [
    "#q2\n",
    "# 1)It provides a clear modular structure for programs which makes it good for defining abstract datatypes in \n",
    "#which implementation details are hidden\n",
    "# 2) Objects can also be reused within an across applications\n",
    "# 3) It makes software easier to maintain. \n",
    "# 4) Reuse also enables faster development."
   ]
  },
  {
   "cell_type": "code",
   "execution_count": null,
   "metadata": {},
   "outputs": [],
   "source": [
    "#q3\n",
    "#A function is a piece of code that is called by name. It can be passed\n",
    "#data to operate on (i.e. the parameters) and can optionally return data\n",
    "#(the return value). All data that is passed to a function is explicitly\n",
    "#passed. A method is a piece of code that is called by a name that is\n",
    "#associated with an object."
   ]
  },
  {
   "cell_type": "code",
   "execution_count": null,
   "metadata": {},
   "outputs": [],
   "source": [
    "#q4\n",
    "#            class\n",
    "#In object-oriented programming, a class is a blueprint for\n",
    "#creating objects (a particular data structure), providing\n",
    "#initial values for state (member variables or attributes), and\n",
    "#implementations of behavior (member functions or\n",
    "#methods). The user-defined objects are created using the\n",
    "#class keyword.\n",
    "\n",
    "#            object\n",
    "#An object is a component of a program that knows how to perform certain actions and how to interact with \n",
    "#other elements of theprogram. Objects are the basic units of object-oriented programming. A simple example \n",
    "#of an object would be a person. Logically,you would expect a person to have a name. This would be considered\n",
    "#a property of the person. You could also expect a person to beable to do something, such as walking or \n",
    "#driving. This would be considered a method of the person.\n",
    "\n",
    "#              attribute\n",
    "#In Object-oriented programming(OOP), classes and objects have attributes\n",
    "#Attributes are data stored inside a class or instance and represent the state or quality\n",
    "#of the class or instance. In short, attributes store information about the instance.\n",
    "#              behaviour\n",
    "#The behavior of an object is defined by its methods, which are the functions and subroutines defined\n",
    "#within the object class. Without class methods, a class would simply be a structure."
   ]
  },
  {
   "cell_type": "code",
   "execution_count": 8,
   "metadata": {},
   "outputs": [],
   "source": [
    "#q.5\n",
    "class car():\n",
    "    def _int_(self,name,model,color,warranty,avergae):\n",
    "        self.name = name \n",
    "        self.model = model\n",
    "        self.color = color\n",
    "        self.warranty = warranty\n",
    "        self.average = average\n",
    "    def feature(self):\n",
    "        print('name of car ' + self.name)\n",
    "        print('model  of car ' + self.model)\n",
    "        print('color of car ' + self.color)\n",
    "          \n",
    "    def average1(self):\n",
    "        print('average of car ' + self.average)\n",
    "    def warranty1(self):\n",
    "        print('warranty of car ' + self.warranty)\n"
   ]
  },
  {
   "cell_type": "code",
   "execution_count": 10,
   "metadata": {},
   "outputs": [
    {
     "name": "stdout",
     "output_type": "stream",
     "text": [
      "name of car civic\n",
      "model  of car 2019\n",
      "color of car black\n",
      "average of car 10 km per hour\n",
      "warranty of car 1 year\n"
     ]
    }
   ],
   "source": [
    "c1 = car()\n",
    "c1.name = 'civic'\n",
    "c1.model = '2019'\n",
    "c1.color = 'black'\n",
    "c1.average = '10 km per hour'\n",
    "c1.warranty = '1 year'\n",
    "c1.feature()\n",
    "c1.average1()\n",
    "c1.warranty1()"
   ]
  },
  {
   "cell_type": "code",
   "execution_count": 11,
   "metadata": {},
   "outputs": [
    {
     "name": "stdout",
     "output_type": "stream",
     "text": [
      "name of car corolla\n",
      "model  of car 2019\n",
      "color of car white\n",
      "average of car 11 km per hour\n",
      "warranty of car 1 year\n"
     ]
    }
   ],
   "source": [
    "c2 = car()\n",
    "c2.name = 'corolla'\n",
    "c2.model = '2019'\n",
    "c2.color = 'white'\n",
    "c2.average = '11 km per hour'\n",
    "c2.warranty = '1 year'\n",
    "c2.feature()\n",
    "c2.average1()\n",
    "c2.warranty1()"
   ]
  },
  {
   "cell_type": "code",
   "execution_count": 12,
   "metadata": {},
   "outputs": [
    {
     "name": "stdout",
     "output_type": "stream",
     "text": [
      "name of car city\n",
      "model  of car 2019\n",
      "color of car grey\n",
      "average of car 12 km per hour\n",
      "warranty of car 1 year\n"
     ]
    }
   ],
   "source": [
    "c3 = car()\n",
    "c3.name = 'city'\n",
    "c3.model = '2019'\n",
    "c3.color = 'grey'\n",
    "c3.average = '12 km per hour'\n",
    "c3.warranty = '1 year'\n",
    "c3.feature()\n",
    "c3.average1()\n",
    "c3.warranty1()"
   ]
  },
  {
   "cell_type": "code",
   "execution_count": 13,
   "metadata": {},
   "outputs": [
    {
     "name": "stdout",
     "output_type": "stream",
     "text": [
      "name of car cultus\n",
      "model  of car 2019\n",
      "color of car silver\n",
      "average of car 14 km per hour\n",
      "warranty of car 1 year\n"
     ]
    }
   ],
   "source": [
    "c4 = car()\n",
    "c4.name = 'cultus'\n",
    "c4.model = '2019'\n",
    "c4.color = 'silver'\n",
    "c4.average = '14 km per hour'\n",
    "c4.warranty = '1 year'\n",
    "c4.feature()\n",
    "c4.average1()\n",
    "c4.warranty1()"
   ]
  },
  {
   "cell_type": "code",
   "execution_count": 14,
   "metadata": {},
   "outputs": [
    {
     "name": "stdout",
     "output_type": "stream",
     "text": [
      "name of car passo\n",
      "model  of car 2019\n",
      "color of car blue\n",
      "average of car 15 km per hour\n",
      "warranty of car 1 year\n"
     ]
    }
   ],
   "source": [
    "c5 = car()\n",
    "c5.name = 'passo'\n",
    "c5.model = '2019'\n",
    "c5.color = 'blue'\n",
    "c5.average = '15 km per hour'\n",
    "c5.warranty = '1 year'\n",
    "c5.feature()\n",
    "c5.average1()\n",
    "c5.warranty1()"
   ]
  }
 ],
 "metadata": {
  "kernelspec": {
   "display_name": "Python 3",
   "language": "python",
   "name": "python3"
  },
  "language_info": {
   "codemirror_mode": {
    "name": "ipython",
    "version": 3
   },
   "file_extension": ".py",
   "mimetype": "text/x-python",
   "name": "python",
   "nbconvert_exporter": "python",
   "pygments_lexer": "ipython3",
   "version": "3.7.3"
  }
 },
 "nbformat": 4,
 "nbformat_minor": 2
}
