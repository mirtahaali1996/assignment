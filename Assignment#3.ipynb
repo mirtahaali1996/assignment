{
 "cells": [
  {
   "cell_type": "code",
   "execution_count": 21,
   "metadata": {},
   "outputs": [
    {
     "name": "stdout",
     "output_type": "stream",
     "text": [
      "6000\n"
     ]
    }
   ],
   "source": [
    "#program to sum numeric items in a dictionary\n",
    "\n",
    "price = {'bat' :  1000 ,'football' : 2000 , 'hockey' : 3000}\n",
    "l2 = []\n",
    "for a in price:\n",
    "    var = price[a]\n",
    "    l2.append(var) \n",
    "add = sum(l2)    \n",
    "print(add)"
   ]
  },
  {
   "cell_type": "code",
   "execution_count": 2,
   "metadata": {},
   "outputs": [
    {
     "name": "stdout",
     "output_type": "stream",
     "text": [
      "{'name ': 'taha', 'age': 23, 'depart ': 'DCS', 'roll no': 57}\n"
     ]
    }
   ],
   "source": [
    "#program to add key in a dictionary\n",
    "dic1 = {'name ' : 'taha' , 'age' : 23 , 'depart ' : 'DCS' }\n",
    "dic1['roll no'] = 57\n",
    "print(dic1)"
   ]
  },
  {
   "cell_type": "code",
   "execution_count": 6,
   "metadata": {},
   "outputs": [
    {
     "name": "stdout",
     "output_type": "stream",
     "text": [
      "enter 1st number : 10\n",
      "what operation u want to perofrm : +\n",
      "enter 2nd number : 20\n",
      "30\n"
     ]
    }
   ],
   "source": [
    "#making of a calculator\n",
    "n1 = input('enter 1st number : ' )\n",
    "n1 = int(n1)\n",
    "op = input('what operation u want to perofrm : ' )\n",
    "op = str(op)\n",
    "n2 = input('enter 2nd number : ' )\n",
    "n2 = int(n2)\n",
    "\n",
    "if op == '+' :\n",
    "    result = n1  + n2\n",
    "    print(result)\n",
    "if op == '-' :\n",
    "    result = n1 - n2\n",
    "    print(result)\n",
    "if op == '*' :\n",
    "    result = n1 * n2\n",
    "    print(result)\n",
    "if op == '/' :\n",
    "    result = n1 / n2\n",
    "    print(result)\n"
   ]
  },
  {
   "cell_type": "code",
   "execution_count": 13,
   "metadata": {},
   "outputs": [
    {
     "name": "stdout",
     "output_type": "stream",
     "text": [
      "duplicate item is cricket\n",
      "duplicate item is football\n"
     ]
    }
   ],
   "source": [
    "#program to identify duplicate value in a list\n",
    "sports = ['cricket' ,'football' , 'swimming' , 'badminton' ,'cricket' , 'football']\n",
    "\n",
    "for a in sports:\n",
    "    var = sports.pop(0)\n",
    "    if var in sports:\n",
    "        print('duplicate value is ' + var)\n",
    "\n",
    "\n",
    "    \n"
   ]
  },
  {
   "cell_type": "code",
   "execution_count": 16,
   "metadata": {},
   "outputs": [
    {
     "name": "stdout",
     "output_type": "stream",
     "text": [
      "10\n",
      "20\n",
      "30\n"
     ]
    }
   ],
   "source": [
    "#program to check numeric value in list\n",
    "l1 = ['car' , 'bike' , 10 , 'cycle' , 20 , 30 ]\n",
    "num = 10\n",
    "num = type(num)\n",
    "for val in l1:\n",
    "    b = type(val)\n",
    "    if b == num:\n",
    "        print( val)\n"
   ]
  },
  {
   "cell_type": "code",
   "execution_count": 2,
   "metadata": {},
   "outputs": [
    {
     "name": "stdout",
     "output_type": "stream",
     "text": [
      "{'name': 'taha', 'age': 23, 'rollno': 57, 'depart': 'dcs'}\n",
      "enter key  : percentage\n",
      "enter value : 73\n",
      "after adding key : \n",
      "{'name': 'taha', 'age': 23, 'rollno': 57, 'depart': 'dcs', 'percentage': '73'}\n"
     ]
    }
   ],
   "source": [
    "#program to check if a given key exist in a dictionary\n",
    "d1 = {'name' : 'taha' , 'age' : 23 , 'rollno' : 57 , 'depart' : 'dcs'}\n",
    "print(d1)\n",
    "var = input('enter key  : ')\n",
    "if var in d1:\n",
    "    print('key is already taken')\n",
    "else:\n",
    "    val = input('enter value : ')\n",
    "    d1[var] = val\n",
    "    print('after adding key : ' )\n",
    "    print(d1)\n"
   ]
  }
 ],
 "metadata": {
  "kernelspec": {
   "display_name": "Python 3",
   "language": "python",
   "name": "python3"
  },
  "language_info": {
   "codemirror_mode": {
    "name": "ipython",
    "version": 3
   },
   "file_extension": ".py",
   "mimetype": "text/x-python",
   "name": "python",
   "nbconvert_exporter": "python",
   "pygments_lexer": "ipython3",
   "version": "3.7.3"
  }
 },
 "nbformat": 4,
 "nbformat_minor": 2
}
