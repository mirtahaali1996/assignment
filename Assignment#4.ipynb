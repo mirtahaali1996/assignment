{
 "cells": [
  {
   "cell_type": "code",
   "execution_count": null,
   "metadata": {},
   "outputs": [],
   "source": [
    "#question.1\n",
    "dic = {'first_name' : 'zain' , 'last_name' : 'bin kamran' , 'age' : 21 , 'city' : 'karachi' }\n",
    "print(dic)\n",
    "dic['qualification'] = 'olevel'\n",
    "print(dic)\n",
    "dic['qualification'] = 'bachelors'\n",
    "print(dic)\n",
    "del dic ['qualification']\n",
    "print(dic)\n"
   ]
  },
  {
   "cell_type": "code",
   "execution_count": null,
   "metadata": {},
   "outputs": [],
   "source": [
    "#question.2\n",
    "cities_info = { 'karachi' : { 'country' : 'pakistan',\n",
    "               'population' : '2.5 crore',\n",
    "                'fact': 'city of lights',},\n",
    "               \n",
    "               'paris' : {'country' : 'france',\n",
    "               'population' : '2.1 million',\n",
    "               'fact': 'city of beauty',}  , \n",
    "               \n",
    "               'london' : { 'country' : 'uk',\n",
    "                'population' : '2.4 million',\n",
    "                'fact': 'city of business'},\n",
    "                }\n",
    "            \n",
    "for k , v in cities_info.items():\n",
    "               print('city name : ' + k )\n",
    "               print('country  : ' + v['country'])\n",
    "               print('population : ' + v['population'] )\n",
    "               print('fact  : ' +  v['fact'])\n",
    "            \n",
    "             \n",
    "               \n",
    "               \n",
    "            \n",
    "               \n",
    "    \n",
    "           \n",
    "        \n",
    "        \n",
    "       \n",
    "    \n",
    "\n",
    "             "
   ]
  },
  {
   "cell_type": "code",
   "execution_count": 5,
   "metadata": {},
   "outputs": [
    {
     "name": "stdout",
     "output_type": "stream",
     "text": [
      "enter ur age : 10\n",
      "ur ticket price is : $12\n"
     ]
    }
   ],
   "source": [
    "#question.3\n",
    "a = 0\n",
    "while a < 1 :\n",
    "    age = input('enter ur age : ')\n",
    "    age = int(age)\n",
    "    if age < 3:\n",
    "        print('ur ticket price is : 0' )\n",
    "        a = 1\n",
    "    elif age >= 3 and  age <= 12:\n",
    "        print('ur ticket price is : $12')\n",
    "        a = 1\n",
    "    elif age > 12:\n",
    "        print('ur ticket price is : $15')\n",
    "        a = 1"
   ]
  },
  {
   "cell_type": "code",
   "execution_count": null,
   "metadata": {},
   "outputs": [],
   "source": [
    "#question.4\n",
    "def favourite_book(title):\n",
    "    print('one of my fav book is ' + title)\n",
    "    \n",
    "favourite_book('Alice in WonderLand')"
   ]
  },
  {
   "cell_type": "code",
   "execution_count": 5,
   "metadata": {},
   "outputs": [
    {
     "name": "stdout",
     "output_type": "stream",
     "text": [
      "enter ur number : 14\n",
      "u enter number is closer but smaller : \n",
      "enter ur number : 16\n",
      "ur enter number  is closer but larger  : \n",
      "enter ur number : 15\n",
      "correct answer \n"
     ]
    }
   ],
   "source": [
    "#question.5\n",
    "l1 = 15\n",
    "i = 0 \n",
    "while i < 3:\n",
    "    a = input('enter ur number : ')\n",
    "    a = int(a)\n",
    "    i += 1\n",
    "    if  a == l1:\n",
    "        print('correct answer ')\n",
    "        break\n",
    "    if a < l1:\n",
    "        print('u enter number is closer but smaller : ')\n",
    "    if a > l1:\n",
    "        print('ur enter number  is closer but larger  : ')\n",
    "        \n",
    "    \n",
    "    \n",
    "\n",
    "\n"
   ]
  }
 ],
 "metadata": {
  "kernelspec": {
   "display_name": "Python 3",
   "language": "python",
   "name": "python3"
  },
  "language_info": {
   "codemirror_mode": {
    "name": "ipython",
    "version": 3
   },
   "file_extension": ".py",
   "mimetype": "text/x-python",
   "name": "python",
   "nbconvert_exporter": "python",
   "pygments_lexer": "ipython3",
   "version": "3.7.3"
  }
 },
 "nbformat": 4,
 "nbformat_minor": 2
}
