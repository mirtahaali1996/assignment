{
 "cells": [
  {
   "cell_type": "code",
   "execution_count": 3,
   "metadata": {},
   "outputs": [
    {
     "name": "stdout",
     "output_type": "stream",
     "text": [
      "9\n",
      "odd number\n"
     ]
    }
   ],
   "source": [
    "# program to identify even or odd\n",
    "number = int(input())\n",
    "if number % 2 == 0:\n",
    "    print('even number')\n",
    "else:\n",
    "    print('odd number')\n",
    "    \n",
    "    "
   ]
  },
  {
   "cell_type": "code",
   "execution_count": 7,
   "metadata": {},
   "outputs": [
    {
     "data": {
      "text/plain": [
       "4"
      ]
     },
     "execution_count": 7,
     "metadata": {},
     "output_type": "execute_result"
    }
   ],
   "source": [
    "#program to print length of list\n",
    "marks = [10 , 20 ,30, 40]\n",
    "len(marks)"
   ]
  },
  {
   "cell_type": "code",
   "execution_count": 8,
   "metadata": {},
   "outputs": [
    {
     "data": {
      "text/plain": [
       "100"
      ]
     },
     "execution_count": 8,
     "metadata": {},
     "output_type": "execute_result"
    }
   ],
   "source": [
    "#program to sum all numbers in list\n",
    "marks  = [10,20,30,40]\n",
    "sum(marks)"
   ]
  },
  {
   "cell_type": "code",
   "execution_count": 9,
   "metadata": {},
   "outputs": [
    {
     "data": {
      "text/plain": [
       "1000"
      ]
     },
     "execution_count": 9,
     "metadata": {},
     "output_type": "execute_result"
    }
   ],
   "source": [
    "#program to finnd largest number in list\n",
    "digits = [ 100 ,200 , 300,1000]\n",
    "max(digits)"
   ]
  },
  {
   "cell_type": "code",
   "execution_count": 10,
   "metadata": {},
   "outputs": [
    {
     "name": "stdout",
     "output_type": "stream",
     "text": [
      "1\n",
      "2\n",
      "3\n"
     ]
    }
   ],
   "source": [
    "# program to print all the numbers less than 5\n",
    "marks  = [10,20,30,40 ,1 ,5,2 ,3]\n",
    "for a in marks:\n",
    "    if a < 5 :\n",
    "        print (a)"
   ]
  },
  {
   "cell_type": "code",
   "execution_count": null,
   "metadata": {},
   "outputs": [],
   "source": [
    "#program for making marksheet\n",
    "math = input('enter ur maths marks : ')\n",
    "physics = input('enter ur physics marks : ')\n",
    "chemistry = input('enter ur chemistry marks : ')\n",
    "history = input('enter ur history marks : ')\n",
    "english = input('enter ur english marks : ')\n",
    "add  = math + physics + chemistry + history + english\n",
    "marks = float (100//50)\n",
    "prcnt =  add * marks20\n",
    "print ( 'total marks : ' + add + ' percentage : ' + prcnt  )"
   ]
  }
 ],
 "metadata": {
  "kernelspec": {
   "display_name": "Python 3",
   "language": "python",
   "name": "python3"
  }
 },
 "nbformat": 4,
 "nbformat_minor": 2
}
